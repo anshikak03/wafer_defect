{
 "cells": [
  {
   "cell_type": "code",
   "execution_count": 5,
   "metadata": {
    "_cell_guid": "b1076dfc-b9ad-4769-8c92-a6c4dae69d19",
    "_uuid": "8f2839f25d086af736a60e9eeb907d3b93b6e0e5",
    "execution": {
     "iopub.execute_input": "2025-07-22T15:22:21.987993Z",
     "iopub.status.busy": "2025-07-22T15:22:21.987664Z",
     "iopub.status.idle": "2025-07-22T15:22:22.318977Z",
     "shell.execute_reply": "2025-07-22T15:22:22.318258Z",
     "shell.execute_reply.started": "2025-07-22T15:22:21.987966Z"
    },
    "trusted": true
   },
   "outputs": [
    {
     "ename": "ModuleNotFoundError",
     "evalue": "No module named 'numpy'",
     "output_type": "error",
     "traceback": [
      "\u001b[31m---------------------------------------------------------------------------\u001b[39m",
      "\u001b[31mModuleNotFoundError\u001b[39m                       Traceback (most recent call last)",
      "\u001b[36mCell\u001b[39m\u001b[36m \u001b[39m\u001b[32mIn[5]\u001b[39m\u001b[32m, line 5\u001b[39m\n\u001b[32m      1\u001b[39m \u001b[38;5;66;03m# This Python 3 environment comes with many helpful analytics libraries installed\u001b[39;00m\n\u001b[32m      2\u001b[39m \u001b[38;5;66;03m# It is defined by the kaggle/python Docker image: https://github.com/kaggle/docker-python\u001b[39;00m\n\u001b[32m      3\u001b[39m \u001b[38;5;66;03m# For example, here's several helpful packages to load\u001b[39;00m\n\u001b[32m----> \u001b[39m\u001b[32m5\u001b[39m \u001b[38;5;28;01mimport\u001b[39;00m\u001b[38;5;250m \u001b[39m\u001b[34;01mnumpy\u001b[39;00m\u001b[38;5;250m \u001b[39m\u001b[38;5;28;01mas\u001b[39;00m\u001b[38;5;250m \u001b[39m\u001b[34;01mnp\u001b[39;00m \u001b[38;5;66;03m# linear algebra\u001b[39;00m\n\u001b[32m      6\u001b[39m \u001b[38;5;28;01mimport\u001b[39;00m\u001b[38;5;250m \u001b[39m\u001b[34;01mpandas\u001b[39;00m\u001b[38;5;250m \u001b[39m\u001b[38;5;28;01mas\u001b[39;00m\u001b[38;5;250m \u001b[39m\u001b[34;01mpd\u001b[39;00m \u001b[38;5;66;03m# data processing, CSV file I/O (e.g. pd.read_csv)\u001b[39;00m\n\u001b[32m      8\u001b[39m \u001b[38;5;66;03m# Input data files are available in the read-only \"../input/\" directory\u001b[39;00m\n\u001b[32m      9\u001b[39m \u001b[38;5;66;03m# For example, running this (by clicking run or pressing Shift+Enter) will list all files under the input directory\u001b[39;00m\n",
      "\u001b[31mModuleNotFoundError\u001b[39m: No module named 'numpy'"
     ]
    }
   ],
   "source": [
    "# This Python 3 environment comes with many helpful analytics libraries installed\n",
    "# It is defined by the kaggle/python Docker image: https://github.com/kaggle/docker-python\n",
    "# For example, here's several helpful packages to load\n",
    "\n",
    "import numpy as np # linear algebra\n",
    "import pandas as pd # data processing, CSV file I/O (e.g. pd.read_csv)\n",
    "\n",
    "# Input data files are available in the read-only \"../input/\" directory\n",
    "# For example, running this (by clicking run or pressing Shift+Enter) will list all files under the input directory\n",
    "\n",
    "import os\n",
    "for dirname, _, filenames in os.walk('/kaggle/input'):\n",
    "    for filename in filenames:\n",
    "        print(os.path.join(dirname, filename))\n",
    "\n",
    "# You can write up to 20GB to the current directory (/kaggle/working/) that gets preserved as output when you create a version using \"Save & Run All\" \n",
    "# You can also write temporary files to /kaggle/temp/, but they won't be saved outside of the current session"
   ]
  },
  {
   "cell_type": "code",
   "execution_count": null,
   "metadata": {},
   "outputs": [],
   "source": []
  },
  {
   "cell_type": "code",
   "execution_count": null,
   "metadata": {
    "execution": {
     "iopub.execute_input": "2025-07-22T15:22:22.320668Z",
     "iopub.status.busy": "2025-07-22T15:22:22.320290Z",
     "iopub.status.idle": "2025-07-22T15:22:22.920287Z",
     "shell.execute_reply": "2025-07-22T15:22:22.919496Z",
     "shell.execute_reply.started": "2025-07-22T15:22:22.320642Z"
    },
    "trusted": true
   },
   "outputs": [],
   "source": [
    "import pandas as pd\n",
    "import numpy as np\n",
    "import matplotlib.pyplot as plt\n",
    "import seaborn as sns\n",
    "import os\n",
    "import warnings\n",
    "warnings.filterwarnings(\"ignore\")\n"
   ]
  },
  {
   "cell_type": "code",
   "execution_count": null,
   "metadata": {
    "execution": {
     "iopub.execute_input": "2025-07-22T15:22:22.921538Z",
     "iopub.status.busy": "2025-07-22T15:22:22.921036Z",
     "iopub.status.idle": "2025-07-22T15:22:58.655644Z",
     "shell.execute_reply": "2025-07-22T15:22:58.654987Z",
     "shell.execute_reply.started": "2025-07-22T15:22:22.921510Z"
    },
    "trusted": true
   },
   "outputs": [],
   "source": [
    "import pandas as pd\n",
    "\n",
    "file_path = '/kaggle/input/wafer-defect-datasets/LSWMD.pkl'\n",
    "\n",
    "# Load dataset\n",
    "try:\n",
    "    df = pd.read_pickle(file_path)\n",
    "    print(\" Dataset loaded successfully!\")\n",
    "    display(df.head())\n",
    "except Exception as e:\n",
    "    print(\" Error loading file:\", e)\n"
   ]
  },
  {
   "cell_type": "code",
   "execution_count": null,
   "metadata": {
    "execution": {
     "iopub.execute_input": "2025-07-22T15:22:58.656624Z",
     "iopub.status.busy": "2025-07-22T15:22:58.656343Z",
     "iopub.status.idle": "2025-07-22T15:22:59.506399Z",
     "shell.execute_reply": "2025-07-22T15:22:59.505709Z",
     "shell.execute_reply.started": "2025-07-22T15:22:58.656599Z"
    },
    "trusted": true
   },
   "outputs": [],
   "source": [
    "df.head(50)"
   ]
  },
  {
   "cell_type": "code",
   "execution_count": null,
   "metadata": {
    "execution": {
     "iopub.execute_input": "2025-07-22T15:22:59.508421Z",
     "iopub.status.busy": "2025-07-22T15:22:59.508205Z",
     "iopub.status.idle": "2025-07-22T15:22:59.860430Z",
     "shell.execute_reply": "2025-07-22T15:22:59.859609Z",
     "shell.execute_reply.started": "2025-07-22T15:22:59.508406Z"
    },
    "trusted": true
   },
   "outputs": [],
   "source": [
    "df.tail(50)\n"
   ]
  },
  {
   "cell_type": "code",
   "execution_count": null,
   "metadata": {
    "execution": {
     "iopub.execute_input": "2025-07-22T15:22:59.861657Z",
     "iopub.status.busy": "2025-07-22T15:22:59.861266Z",
     "iopub.status.idle": "2025-07-22T15:22:59.867648Z",
     "shell.execute_reply": "2025-07-22T15:22:59.866877Z",
     "shell.execute_reply.started": "2025-07-22T15:22:59.861630Z"
    },
    "trusted": true
   },
   "outputs": [],
   "source": [
    "df.columns\n",
    "df.shape\n",
    "df.dtypes"
   ]
  },
  {
   "cell_type": "code",
   "execution_count": null,
   "metadata": {
    "execution": {
     "iopub.execute_input": "2025-07-22T15:22:59.868679Z",
     "iopub.status.busy": "2025-07-22T15:22:59.868432Z",
     "iopub.status.idle": "2025-07-22T15:22:59.906254Z",
     "shell.execute_reply": "2025-07-22T15:22:59.905496Z",
     "shell.execute_reply.started": "2025-07-22T15:22:59.868655Z"
    },
    "trusted": true
   },
   "outputs": [],
   "source": [
    "print(df['failureType'].tail(1000).value_counts(dropna=False))\n",
    "print(df['trianTestLabel'].tail(1000).value_counts(dropna=False))"
   ]
  },
  {
   "cell_type": "code",
   "execution_count": null,
   "metadata": {
    "execution": {
     "iopub.execute_input": "2025-07-22T15:22:59.907271Z",
     "iopub.status.busy": "2025-07-22T15:22:59.907036Z",
     "iopub.status.idle": "2025-07-22T15:22:59.921998Z",
     "shell.execute_reply": "2025-07-22T15:22:59.921300Z",
     "shell.execute_reply.started": "2025-07-22T15:22:59.907254Z"
    },
    "trusted": true
   },
   "outputs": [],
   "source": [
    "print(\"811455 failureType:\", df.at[811455, 'failureType'], \"Type:\", type(df.at[811455, 'failureType']))\n",
    "print(\"811455 trianTestLabel:\", df.at[811455, 'trianTestLabel'], \"Type:\", type(df.at[811455, 'trianTestLabel']))\n"
   ]
  },
  {
   "cell_type": "code",
   "execution_count": null,
   "metadata": {
    "execution": {
     "iopub.execute_input": "2025-07-22T15:22:59.922992Z",
     "iopub.status.busy": "2025-07-22T15:22:59.922745Z",
     "iopub.status.idle": "2025-07-22T15:23:01.807895Z",
     "shell.execute_reply": "2025-07-22T15:23:01.807125Z",
     "shell.execute_reply.started": "2025-07-22T15:22:59.922970Z"
    },
    "trusted": true
   },
   "outputs": [],
   "source": [
    "import numpy as np\n",
    "\n",
    "\n",
    "df['failureType'] = df['failureType'].apply(lambda x: [['del']] if isinstance(x, np.ndarray) and x.size == 0 else x)\n",
    "df['trianTestLabel'] = df['trianTestLabel'].apply(lambda x: [['del']] if isinstance(x, np.ndarray) and x.size == 0 else x)\n",
    "\n",
    "\n",
    "print(df.loc[811455:811456, ['failureType', 'trianTestLabel']])"
   ]
  },
  {
   "cell_type": "code",
   "execution_count": null,
   "metadata": {
    "execution": {
     "iopub.execute_input": "2025-07-22T15:23:01.808950Z",
     "iopub.status.busy": "2025-07-22T15:23:01.808679Z",
     "iopub.status.idle": "2025-07-22T15:23:06.075878Z",
     "shell.execute_reply": "2025-07-22T15:23:06.075075Z",
     "shell.execute_reply.started": "2025-07-22T15:23:01.808926Z"
    },
    "trusted": true
   },
   "outputs": [],
   "source": [
    "import numpy as np\n",
    "\n",
    "\n",
    "def replace_empty(val):\n",
    "    if isinstance(val, (list, np.ndarray)) and len(val) == 0:\n",
    "        return [[\"del\"]]\n",
    "    return val\n",
    "\n",
    "# Step 2: Replace [[\"none\"]] with [[\"normal\"]]\n",
    "def replace_none(val):\n",
    "    if isinstance(val, (list, np.ndarray)) and np.array_equal(val, [[\"none\"]]):\n",
    "        return [[\"normal\"]]\n",
    "    return val\n",
    "\n",
    "# Apply to relevant columns only\n",
    "df[\"failureType\"] = df[\"failureType\"].apply(replace_empty).apply(replace_none)\n",
    "df[\"trianTestLabel\"] = df[\"trianTestLabel\"].apply(replace_empty)\n"
   ]
  },
  {
   "cell_type": "code",
   "execution_count": null,
   "metadata": {
    "execution": {
     "iopub.execute_input": "2025-07-22T15:23:06.076925Z",
     "iopub.status.busy": "2025-07-22T15:23:06.076701Z",
     "iopub.status.idle": "2025-07-22T15:23:07.534158Z",
     "shell.execute_reply": "2025-07-22T15:23:07.533272Z",
     "shell.execute_reply.started": "2025-07-22T15:23:06.076907Z"
    },
    "trusted": true
   },
   "outputs": [],
   "source": [
    "# Preview replaced rows\n",
    "print(df[(df[\"failureType\"].apply(lambda x: x == [[\"del\"]]) | df[\"failureType\"].apply(lambda x: x == [[\"normal\"]]) |\n",
    "          df[\"trianTestLabel\"].apply(lambda x: x == [[\"del\"]]))].tail(15))"
   ]
  },
  {
   "cell_type": "code",
   "execution_count": null,
   "metadata": {
    "execution": {
     "iopub.execute_input": "2025-07-22T15:23:07.535524Z",
     "iopub.status.busy": "2025-07-22T15:23:07.535182Z",
     "iopub.status.idle": "2025-07-22T15:23:07.557708Z",
     "shell.execute_reply": "2025-07-22T15:23:07.554162Z",
     "shell.execute_reply.started": "2025-07-22T15:23:07.535499Z"
    },
    "trusted": true
   },
   "outputs": [],
   "source": [
    "print(df['failureType'].tail(1000).value_counts(dropna=False))\n",
    "print(df['trianTestLabel'].tail(1000).value_counts(dropna=False))"
   ]
  },
  {
   "cell_type": "code",
   "execution_count": null,
   "metadata": {
    "execution": {
     "iopub.execute_input": "2025-07-22T15:23:07.559148Z",
     "iopub.status.busy": "2025-07-22T15:23:07.558643Z",
     "iopub.status.idle": "2025-07-22T15:23:08.773587Z",
     "shell.execute_reply": "2025-07-22T15:23:08.773050Z",
     "shell.execute_reply.started": "2025-07-22T15:23:07.559124Z"
    },
    "trusted": true
   },
   "outputs": [],
   "source": [
    "df_clean = df[~(\n",
    "    df['failureType'].apply(lambda x: x == [['del']]) |df['trianTestLabel'].apply(lambda x: x == [['del']])\n",
    ")].reset_index(drop=True)\n"
   ]
  },
  {
   "cell_type": "code",
   "execution_count": null,
   "metadata": {
    "execution": {
     "iopub.execute_input": "2025-07-22T15:23:08.776256Z",
     "iopub.status.busy": "2025-07-22T15:23:08.776037Z",
     "iopub.status.idle": "2025-07-22T15:23:08.849671Z",
     "shell.execute_reply": "2025-07-22T15:23:08.848887Z",
     "shell.execute_reply.started": "2025-07-22T15:23:08.776238Z"
    },
    "trusted": true
   },
   "outputs": [],
   "source": [
    "print(df[['failureType', 'trianTestLabel']].tail(50))"
   ]
  },
  {
   "cell_type": "code",
   "execution_count": null,
   "metadata": {
    "execution": {
     "iopub.execute_input": "2025-07-22T15:23:08.850818Z",
     "iopub.status.busy": "2025-07-22T15:23:08.850552Z",
     "iopub.status.idle": "2025-07-22T15:23:09.735407Z",
     "shell.execute_reply": "2025-07-22T15:23:09.734691Z",
     "shell.execute_reply.started": "2025-07-22T15:23:08.850799Z"
    },
    "trusted": true
   },
   "outputs": [],
   "source": [
    "import matplotlib.pyplot as plt\n",
    "import numpy as np\n",
    "\n",
    "# Define the start and end of the index range\n",
    "start_index = 811443\n",
    "end_index = 811454\n",
    "\n",
    "# Loop through the specified index range\n",
    "for i in range(start_index, end_index + 1):\n",
    "    if i in df.index:  # Make sure the index exists in the DataFrame\n",
    "        wafer = df.loc[i]\n",
    "        img_array = np.array(wafer['waferMap'])     # Convert list to NumPy array\n",
    "        label = wafer['failureType']                # Get cleaned label\n",
    "\n",
    "        plt.imshow(img_array, cmap='gray')          # Show as grayscale image\n",
    "        plt.title(f\"Index: {i}, Label: {label}\")\n",
    "        plt.axis('off')\n",
    "        plt.show()\n",
    "    else:\n",
    "        print(f\"Index {i} not found in DataFrame.\")\n"
   ]
  },
  {
   "cell_type": "code",
   "execution_count": null,
   "metadata": {
    "execution": {
     "iopub.execute_input": "2025-07-22T15:23:09.736628Z",
     "iopub.status.busy": "2025-07-22T15:23:09.736333Z",
     "iopub.status.idle": "2025-07-22T15:23:10.834611Z",
     "shell.execute_reply": "2025-07-22T15:23:10.833883Z",
     "shell.execute_reply.started": "2025-07-22T15:23:09.736601Z"
    },
    "trusted": true
   },
   "outputs": [],
   "source": [
    "import os\n",
    "import numpy as np\n",
    "import matplotlib.pyplot as plt\n",
    "from tqdm import tqdm\n",
    "\n",
    "# Folder to store images\n",
    "base_dir = \"/content/wafer_images_last_1000\"\n",
    "os.makedirs(base_dir, exist_ok=True)\n",
    "\n",
    "# Save images\n",
    "for i in tqdm(range(max(0, len(df) - 1000), len(df))): # Iterate through the last 1000 rows of df\n",
    "    row = df.iloc[i]\n",
    "    image = np.array(row['waferMap'])\n",
    "    label = row['failureType']\n",
    "\n",
    "    # Create folder if it doesn't exist\n",
    "    # Convert the label to a string for the folder name\n",
    "    label_folder = os.path.join(base_dir, str(label))\n",
    "    os.makedirs(label_folder, exist_ok=True)\n",
    "\n",
    "    # File path\n",
    "    filename = f\"wafer_{i}.png\"\n",
    "    file_path = os.path.join(label_folder, filename)\n",
    "\n",
    "    # Save image\n",
    "    plt.imsave(file_path, image, cmap='gray')"
   ]
  },
  {
   "cell_type": "code",
   "execution_count": null,
   "metadata": {
    "execution": {
     "iopub.execute_input": "2025-07-22T15:23:10.835719Z",
     "iopub.status.busy": "2025-07-22T15:23:10.835385Z",
     "iopub.status.idle": "2025-07-22T15:23:11.583965Z",
     "shell.execute_reply": "2025-07-22T15:23:11.583393Z",
     "shell.execute_reply.started": "2025-07-22T15:23:10.835700Z"
    },
    "trusted": true
   },
   "outputs": [],
   "source": [
    "import os\n",
    "import shutil\n",
    "import random\n",
    "from tqdm import tqdm\n",
    "\n",
    "# Paths\n",
    "source_dir = \"/content/wafer_images\"         # Where all images are now\n",
    "train_dir = \"/content/wafer_split/train\"     # 80%\n",
    "test_dir = \"/content/wafer_split/test\"      # 20%\n",
    "\n",
    "# Create target dirs\n",
    "for path in [train_dir, test_dir]:\n",
    "    os.makedirs(path, exist_ok=True)\n",
    "\n",
    "# For each class folder\n",
    "for label in os.listdir(source_dir):\n",
    "    class_path = os.path.join(source_dir, label)\n",
    "    if not os.path.isdir(class_path):\n",
    "        continue\n",
    "\n",
    "    images = os.listdir(class_path)\n",
    "    images = images[-1000:] \n",
    "    random.shuffle(images)\n",
    "\n",
    "    split_index = int(len(images) * 0.8)\n",
    "    train_images = images[:split_index]\n",
    "    test_images = images[split_index:]\n",
    "\n",
    "    # Create class folders in train and test\n",
    "    os.makedirs(os.path.join(train_dir, label), exist_ok=True)\n",
    "    os.makedirs(os.path.join(test_dir, label), exist_ok=True)\n",
    "\n",
    "    # Copy training images\n",
    "    for img in tqdm(train_images, desc=f\"Train: {label}\"):\n",
    "        src = os.path.join(class_path, img)\n",
    "        dst = os.path.join(train_dir, label, img)\n",
    "        shutil.copy(src, dst)\n",
    "\n",
    "    # Copy test images\n",
    "    for img in tqdm(test_images, desc=f\"Test: {label}\"):\n",
    "        src = os.path.join(class_path, img)\n",
    "        dst = os.path.join(test_dir, label, img)\n",
    "        shutil.copy(src, dst)\n"
   ]
  },
  {
   "cell_type": "code",
   "execution_count": null,
   "metadata": {
    "execution": {
     "iopub.execute_input": "2025-07-22T15:23:11.585167Z",
     "iopub.status.busy": "2025-07-22T15:23:11.584947Z",
     "iopub.status.idle": "2025-07-22T15:23:14.823298Z",
     "shell.execute_reply": "2025-07-22T15:23:14.822718Z",
     "shell.execute_reply.started": "2025-07-22T15:23:11.585151Z"
    },
    "trusted": true
   },
   "outputs": [],
   "source": [
    "from tensorflow.keras.preprocessing.image import ImageDataGenerator\n",
    "\n",
    "# Set image shape (we'll resize all images to this)\n",
    "IMG_HEIGHT = 64\n",
    "IMG_WIDTH = 64\n",
    "BATCH_SIZE = 32\n",
    "\n",
    "#  Define train and test directories\n",
    "train_dir = \"/content/wafer_split/train\"\n",
    "test_dir = \"/content/wafer_split/test\"\n",
    "\n",
    "#  Create ImageDataGenerators\n",
    "train_datagen = ImageDataGenerator(rescale=1./255)\n",
    "test_datagen = ImageDataGenerator(rescale=1./255)\n",
    "\n",
    "#  Create Generators\n",
    "train_generator = train_datagen.flow_from_directory(\n",
    "    train_dir,\n",
    "    target_size=(IMG_HEIGHT, IMG_WIDTH),\n",
    "    batch_size=BATCH_SIZE,\n",
    "    class_mode='categorical'  # For multi-class classification\n",
    ")\n",
    "\n",
    "test_generator = test_datagen.flow_from_directory(\n",
    "    test_dir,\n",
    "    target_size=(IMG_HEIGHT, IMG_WIDTH),\n",
    "    batch_size=BATCH_SIZE,\n",
    "    class_mode='categorical'\n",
    ")\n"
   ]
  },
  {
   "cell_type": "code",
   "execution_count": null,
   "metadata": {
    "execution": {
     "iopub.execute_input": "2025-07-22T15:23:14.824598Z",
     "iopub.status.busy": "2025-07-22T15:23:14.824057Z",
     "iopub.status.idle": "2025-07-22T15:23:15.782748Z",
     "shell.execute_reply": "2025-07-22T15:23:15.782113Z",
     "shell.execute_reply.started": "2025-07-22T15:23:14.824569Z"
    },
    "trusted": true
   },
   "outputs": [],
   "source": [
    "from tensorflow.keras.models import Sequential\n",
    "from tensorflow.keras.layers import Conv2D, MaxPooling2D, Flatten, Dense, Dropout\n",
    "\n",
    "# Number of classes from train_generator\n",
    "num_classes = len(train_generator.class_indices)\n",
    "\n",
    "# ✅ Define CNN model\n",
    "model = Sequential([\n",
    "    # Convolution Layer 1\n",
    "    Conv2D(32, (3, 3), activation='relu', input_shape=(IMG_HEIGHT, IMG_WIDTH, 3)),\n",
    "    MaxPooling2D(pool_size=(2, 2)),\n",
    "\n",
    "    # Convolution Layer 2\n",
    "    Conv2D(64, (3, 3), activation='relu'),\n",
    "    MaxPooling2D(pool_size=(2, 2)),\n",
    "\n",
    "    # Flatten and Dense layers\n",
    "    Flatten(),\n",
    "    Dense(128, activation='relu'),\n",
    "    Dropout(0.3),\n",
    "    Dense(num_classes, activation='softmax')  # Final layer\n",
    "])\n"
   ]
  },
  {
   "cell_type": "code",
   "execution_count": null,
   "metadata": {
    "execution": {
     "iopub.execute_input": "2025-07-22T15:23:15.783709Z",
     "iopub.status.busy": "2025-07-22T15:23:15.783490Z",
     "iopub.status.idle": "2025-07-22T15:23:15.807749Z",
     "shell.execute_reply": "2025-07-22T15:23:15.807055Z",
     "shell.execute_reply.started": "2025-07-22T15:23:15.783692Z"
    },
    "trusted": true
   },
   "outputs": [],
   "source": [
    "model.compile(\n",
    "    loss='categorical_crossentropy',\n",
    "    optimizer='adam',\n",
    "    metrics=['accuracy']\n",
    ")\n",
    "\n",
    "\n",
    "model.summary()"
   ]
  },
  {
   "cell_type": "code",
   "execution_count": null,
   "metadata": {
    "execution": {
     "iopub.execute_input": "2025-07-22T15:23:15.808638Z",
     "iopub.status.busy": "2025-07-22T15:23:15.808403Z"
    },
    "trusted": true
   },
   "outputs": [],
   "source": [
    "EPOCHS = 20  # You can increase later\n",
    "\n",
    "history = model.fit(\n",
    "    train_generator,\n",
    "    epochs=EPOCHS,\n",
    "    validation_data=test_generator\n",
    ")\n"
   ]
  },
  {
   "cell_type": "code",
   "execution_count": null,
   "metadata": {
    "trusted": true
   },
   "outputs": [],
   "source": [
    "import matplotlib.pyplot as plt\n",
    "\n",
    "# Accuracy Plot\n",
    "plt.plot(history.history['accuracy'], label='Train Accuracy')\n",
    "plt.plot(history.history['val_accuracy'], label='Validation Accuracy')\n",
    "plt.title('Model Accuracy')\n",
    "plt.xlabel('Epochs')\n",
    "plt.ylabel('Accuracy')\n",
    "plt.legend()\n",
    "plt.grid(True)\n",
    "plt.show()\n",
    "\n",
    "# Loss Plot\n",
    "plt.plot(history.history['loss'], label='Train Loss')\n",
    "plt.plot(history.history['val_loss'], label='Validation Loss')\n",
    "plt.title('Model Loss')\n",
    "plt.xlabel('Epochs')\n",
    "plt.ylabel('Loss')\n",
    "plt.legend()\n",
    "plt.grid(True)\n",
    "plt.show()\n"
   ]
  },
  {
   "cell_type": "code",
   "execution_count": null,
   "metadata": {
    "trusted": true
   },
   "outputs": [],
   "source": [
    "test_loss, accuracy = model.evaluate(test_generator)\n",
    "print(f\"Test Loss: {loss:.4f}\")\n",
    "print(f\"Test Accuracy: {accuracy:.4f}\")\n",
    "# ✅ Evaluate on training data\n",
    "train_loss, train_accuracy = model.evaluate(train_generator)\n",
    "print(f\"Train Loss: {train_loss:.4f}\")\n",
    "print(f\"Train Accuracy: {train_accuracy:.4f}\")\n"
   ]
  },
  {
   "cell_type": "code",
   "execution_count": null,
   "metadata": {
    "trusted": true
   },
   "outputs": [],
   "source": [
    "import numpy as np\n",
    "from sklearn.metrics import confusion_matrix, classification_report\n",
    "import seaborn as sns\n",
    "\n",
    "# Get predictions\n",
    "Y_pred = model.predict(test_generator)\n",
    "y_pred = np.argmax(Y_pred, axis=1)\n",
    "\n",
    "# True labels\n",
    "y_true = test_generator.classes\n",
    "\n",
    "# Confusion Matrix\n",
    "cm = confusion_matrix(y_true, y_pred)\n",
    "labels = list(test_generator.class_indices.keys())\n",
    "\n",
    "# Plot\n",
    "plt.figure(figsize=(8, 6))\n",
    "sns.heatmap(cm, annot=True, fmt='d', cmap='Blues', xticklabels=labels, yticklabels=labels)\n",
    "plt.title('Confusion Matrix')\n",
    "plt.xlabel('Predicted')\n",
    "plt.ylabel('Actual')\n",
    "plt.show()\n",
    "\n",
    "# Optional: Full classification report\n",
    "print(classification_report(y_true, y_pred, target_names=labels))\n"
   ]
  },
  {
   "cell_type": "code",
   "execution_count": null,
   "metadata": {
    "trusted": true
   },
   "outputs": [],
   "source": [
    "import random\n",
    "from tensorflow.keras.preprocessing import image\n",
    "\n",
    "# Pick a random image path from test folder\n",
    "test_class = random.choice(os.listdir(test_dir))\n",
    "test_class_path = os.path.join(test_dir, test_class)\n",
    "test_image_file = random.choice(os.listdir(test_class_path))\n",
    "test_image_path = os.path.join(test_class_path, test_image_file)\n",
    "\n",
    "# Load and preprocess the image\n",
    "img = image.load_img(test_image_path, target_size=(IMG_HEIGHT, IMG_WIDTH))\n",
    "img_array = image.img_to_array(img)\n",
    "img_array = np.expand_dims(img_array, axis=0) / 255.0  # Normalize\n",
    "\n",
    "# Predict\n",
    "prediction = model.predict(img_array)\n",
    "predicted_class = labels[np.argmax(prediction)]\n",
    "\n",
    "# Show image and prediction\n",
    "plt.imshow(img)\n",
    "plt.axis('off')\n",
    "plt.title(f\"Predicted: {predicted_class}\")\n",
    "plt.show()\n"
   ]
  },
  {
   "cell_type": "code",
   "execution_count": null,
   "metadata": {
    "trusted": true
   },
   "outputs": [],
   "source": [
    "model.save(\"wafer_defect_model.h5\")\n"
   ]
  },
  {
   "cell_type": "code",
   "execution_count": null,
   "metadata": {
    "trusted": true
   },
   "outputs": [],
   "source": [
    "from tensorflow.keras.models import load_model\n",
    "\n",
    "# Load your trained model\n",
    "model = load_model(\"wafer_defect_model.h5\")\n"
   ]
  }
 ],
 "metadata": {
  "kaggle": {
   "accelerator": "gpu",
   "dataSources": [
    {
     "datasetId": 7848957,
     "sourceId": 12442709,
     "sourceType": "datasetVersion"
    }
   ],
   "dockerImageVersionId": 31089,
   "isGpuEnabled": true,
   "isInternetEnabled": true,
   "language": "python",
   "sourceType": "notebook"
  },
  "kernelspec": {
   "display_name": "Python (LSWMD Analysis)",
   "language": "python",
   "name": "lswmd_env"
  },
  "language_info": {
   "codemirror_mode": {
    "name": "ipython",
    "version": 3
   },
   "file_extension": ".py",
   "mimetype": "text/x-python",
   "name": "python",
   "nbconvert_exporter": "python",
   "pygments_lexer": "ipython3",
   "version": "3.13.5"
  }
 },
 "nbformat": 4,
 "nbformat_minor": 4
}
